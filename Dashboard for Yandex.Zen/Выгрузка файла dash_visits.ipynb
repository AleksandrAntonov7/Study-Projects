{
 "cells": [
  {
   "cell_type": "code",
   "execution_count": 1,
   "id": "63b55da5",
   "metadata": {},
   "outputs": [],
   "source": [
    "# импортируем библиотеки\n",
    "import pandas as pd\n",
    "from sqlalchemy import create_engine\n",
    "\n",
    "db_config = {'user': 'praktikum_student', # имя пользователя\n",
    "            'pwd': 'Sdf4$2;d-d30pp', # пароль\n",
    "            'host': 'rc1b-wcoijxj3yxfsf3fs.mdb.yandexcloud.net',\n",
    "            'port': 6432, # порт подключения\n",
    "            'db': 'data-analyst-zen-project-db'} # название базы данных\n",
    "\n",
    "connection_string = 'postgresql://{}:{}@{}:{}/{}'.format(db_config['user'],\n",
    "                                                db_config['pwd'],\n",
    "                                                db_config['host'],\n",
    "                                                db_config['port'],\n",
    "                                                db_config['db'])\n",
    "\n",
    "engine = create_engine(connection_string) \n",
    "\n",
    "query = ''' SELECT *\n",
    "            FROM dash_visits\n",
    "        ''' # sql-запрос для выгрузки данных из таблицы dash_visits\n",
    "\n",
    "dash_visits = pd.io.sql.read_sql(query, con = engine) # код для сохранения результатов sql-запроса"
   ]
  },
  {
   "cell_type": "code",
   "execution_count": 4,
   "id": "94567591",
   "metadata": {},
   "outputs": [
    {
     "data": {
      "text/html": [
       "<div>\n",
       "<style scoped>\n",
       "    .dataframe tbody tr th:only-of-type {\n",
       "        vertical-align: middle;\n",
       "    }\n",
       "\n",
       "    .dataframe tbody tr th {\n",
       "        vertical-align: top;\n",
       "    }\n",
       "\n",
       "    .dataframe thead th {\n",
       "        text-align: right;\n",
       "    }\n",
       "</style>\n",
       "<table border=\"1\" class=\"dataframe\">\n",
       "  <thead>\n",
       "    <tr style=\"text-align: right;\">\n",
       "      <th></th>\n",
       "      <th>record_id</th>\n",
       "      <th>item_topic</th>\n",
       "      <th>source_topic</th>\n",
       "      <th>age_segment</th>\n",
       "      <th>dt</th>\n",
       "      <th>visits</th>\n",
       "    </tr>\n",
       "  </thead>\n",
       "  <tbody>\n",
       "    <tr>\n",
       "      <th>0</th>\n",
       "      <td>1040597</td>\n",
       "      <td>Деньги</td>\n",
       "      <td>Авто</td>\n",
       "      <td>18-25</td>\n",
       "      <td>2019-09-24 18:32:00</td>\n",
       "      <td>3</td>\n",
       "    </tr>\n",
       "    <tr>\n",
       "      <th>1</th>\n",
       "      <td>1040598</td>\n",
       "      <td>Деньги</td>\n",
       "      <td>Авто</td>\n",
       "      <td>18-25</td>\n",
       "      <td>2019-09-24 18:35:00</td>\n",
       "      <td>1</td>\n",
       "    </tr>\n",
       "    <tr>\n",
       "      <th>2</th>\n",
       "      <td>1040599</td>\n",
       "      <td>Деньги</td>\n",
       "      <td>Авто</td>\n",
       "      <td>18-25</td>\n",
       "      <td>2019-09-24 18:54:00</td>\n",
       "      <td>4</td>\n",
       "    </tr>\n",
       "    <tr>\n",
       "      <th>3</th>\n",
       "      <td>1040600</td>\n",
       "      <td>Деньги</td>\n",
       "      <td>Авто</td>\n",
       "      <td>18-25</td>\n",
       "      <td>2019-09-24 18:55:00</td>\n",
       "      <td>17</td>\n",
       "    </tr>\n",
       "    <tr>\n",
       "      <th>4</th>\n",
       "      <td>1040601</td>\n",
       "      <td>Деньги</td>\n",
       "      <td>Авто</td>\n",
       "      <td>18-25</td>\n",
       "      <td>2019-09-24 18:56:00</td>\n",
       "      <td>27</td>\n",
       "    </tr>\n",
       "  </tbody>\n",
       "</table>\n",
       "</div>"
      ],
      "text/plain": [
       "   record_id item_topic source_topic age_segment                  dt  visits\n",
       "0    1040597     Деньги         Авто       18-25 2019-09-24 18:32:00       3\n",
       "1    1040598     Деньги         Авто       18-25 2019-09-24 18:35:00       1\n",
       "2    1040599     Деньги         Авто       18-25 2019-09-24 18:54:00       4\n",
       "3    1040600     Деньги         Авто       18-25 2019-09-24 18:55:00      17\n",
       "4    1040601     Деньги         Авто       18-25 2019-09-24 18:56:00      27"
      ]
     },
     "execution_count": 4,
     "metadata": {},
     "output_type": "execute_result"
    }
   ],
   "source": [
    "dash_visits.head()"
   ]
  },
  {
   "cell_type": "code",
   "execution_count": 3,
   "id": "f313c8b8",
   "metadata": {},
   "outputs": [],
   "source": [
    "dash_visits.to_csv('dash_visits.csv')"
   ]
  },
  {
   "cell_type": "code",
   "execution_count": null,
   "id": "c10aa3f3",
   "metadata": {},
   "outputs": [],
   "source": [
    "### **Чтобы скачать датасет необходимо:**\n",
    "\n",
    "# - Воспользоваться методом `to_csv(): [df.to](http://df.to/)_csv('file_name.csv')`;\n",
    "# - Кликнуть по логотипу Jupyter; Там вы увидите все ваши ноутбуки и сохраненный файл."
   ]
  }
 ],
 "metadata": {
  "ExecuteTimeLog": [
   {
    "duration": 6813,
    "start_time": "2022-04-11T08:25:52.969Z"
   },
   {
    "duration": 25,
    "start_time": "2022-04-11T08:26:16.021Z"
   },
   {
    "duration": 155,
    "start_time": "2022-04-11T08:27:18.035Z"
   },
   {
    "duration": 98,
    "start_time": "2022-04-11T08:32:40.688Z"
   },
   {
    "duration": 23,
    "start_time": "2022-04-11T08:32:51.646Z"
   },
   {
    "duration": 10,
    "start_time": "2022-04-11T08:32:56.321Z"
   },
   {
    "duration": 10,
    "start_time": "2022-04-11T08:33:17.589Z"
   },
   {
    "duration": 6429,
    "start_time": "2022-04-11T08:33:23.803Z"
   },
   {
    "duration": 23,
    "start_time": "2022-04-11T08:33:30.236Z"
   },
   {
    "duration": 169,
    "start_time": "2022-04-11T08:33:30.273Z"
   },
   {
    "duration": 122,
    "start_time": "2022-04-11T08:33:30.473Z"
   },
   {
    "duration": 606,
    "start_time": "2022-04-11T08:55:29.200Z"
   },
   {
    "duration": 6463,
    "start_time": "2022-04-11T09:01:57.252Z"
   },
   {
    "duration": 25,
    "start_time": "2022-04-11T09:02:03.718Z"
   },
   {
    "duration": 179,
    "start_time": "2022-04-11T09:02:03.746Z"
   },
   {
    "duration": 543,
    "start_time": "2022-04-11T09:02:03.928Z"
   },
   {
    "duration": 350,
    "start_time": "2022-04-11T09:02:33.156Z"
   },
   {
    "duration": 7919,
    "start_time": "2022-04-11T09:04:23.011Z"
   },
   {
    "duration": 24,
    "start_time": "2022-04-11T09:04:30.932Z"
   },
   {
    "duration": 162,
    "start_time": "2022-04-11T09:04:30.958Z"
   },
   {
    "duration": 349,
    "start_time": "2022-04-11T09:04:31.122Z"
   },
   {
    "duration": 109,
    "start_time": "2022-04-11T09:07:44.352Z"
   },
   {
    "duration": 7028,
    "start_time": "2022-04-11T09:07:54.599Z"
   },
   {
    "duration": 23,
    "start_time": "2022-04-11T09:08:01.630Z"
   },
   {
    "duration": 452,
    "start_time": "2022-04-11T09:08:01.655Z"
   },
   {
    "duration": 13,
    "start_time": "2022-04-11T09:08:39.940Z"
   }
  ],
  "kernelspec": {
   "display_name": "Python 3 (ipykernel)",
   "language": "python",
   "name": "python3"
  },
  "language_info": {
   "codemirror_mode": {
    "name": "ipython",
    "version": 3
   },
   "file_extension": ".py",
   "mimetype": "text/x-python",
   "name": "python",
   "nbconvert_exporter": "python",
   "pygments_lexer": "ipython3",
   "version": "3.9.5"
  },
  "toc": {
   "base_numbering": 1,
   "nav_menu": {},
   "number_sections": true,
   "sideBar": true,
   "skip_h1_title": true,
   "title_cell": "Table of Contents",
   "title_sidebar": "Contents",
   "toc_cell": false,
   "toc_position": {},
   "toc_section_display": true,
   "toc_window_display": false
  }
 },
 "nbformat": 4,
 "nbformat_minor": 5
}
